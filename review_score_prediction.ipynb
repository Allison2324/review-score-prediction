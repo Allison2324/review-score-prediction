{
 "cells": [
  {
   "cell_type": "markdown",
   "metadata": {},
   "source": [
    "# Loading modules"
   ]
  },
  {
   "cell_type": "code",
   "execution_count": 82,
   "metadata": {},
   "outputs": [
    {
     "name": "stderr",
     "output_type": "stream",
     "text": [
      "[nltk_data] Downloading package punkt to\n",
      "[nltk_data]     C:\\Users\\Allison\\AppData\\Roaming\\nltk_data...\n",
      "[nltk_data]   Package punkt is already up-to-date!\n"
     ]
    }
   ],
   "source": [
    "import pandas as pd\n",
    "import numpy as np\n",
    "import json\n",
    "import collections\n",
    "import re\n",
    "from IPython.display import clear_output\n",
    "import pickle\n",
    "import matplotlib.pyplot as plt\n",
    "\n",
    "from sklearn.model_selection import train_test_split, cross_val_score, GridSearchCV\n",
    "from sklearn.preprocessing import OneHotEncoder, OrdinalEncoder\n",
    "from sklearn.ensemble import RandomForestClassifier\n",
    "from sklearn.preprocessing import StandardScaler\n",
    "from sklearn.linear_model import LogisticRegression\n",
    "from sklearn.metrics import precision_score, confusion_matrix, recall_score, auc, roc_curve\n",
    "from sklearn.metrics import make_scorer, accuracy_score, roc_auc_score, plot_confusion_matrix\n",
    "\n",
    "from spacy.lang.en import English\n",
    "import spacy\n",
    "\n",
    "spacy_stopwords = spacy.lang.en.stop_words.STOP_WORDS\n",
    "import nltk\n",
    "nltk.download('punkt')\n",
    "from string import punctuation\n",
    "from nltk.tokenize import word_tokenize"
   ]
  },
  {
   "cell_type": "markdown",
   "metadata": {},
   "source": [
    "# Data loading"
   ]
  },
  {
   "cell_type": "code",
   "execution_count": 2,
   "metadata": {},
   "outputs": [],
   "source": [
    "data = []\n",
    "with open(\"reviews.json\", \"r\") as json_file:\n",
    "    for line in json_file:\n",
    "        data.append(json.loads(line))"
   ]
  },
  {
   "cell_type": "code",
   "execution_count": 3,
   "metadata": {},
   "outputs": [],
   "source": [
    "df = pd.DataFrame(data)"
   ]
  },
  {
   "cell_type": "code",
   "execution_count": 4,
   "metadata": {},
   "outputs": [],
   "source": [
    "df = df.drop(labels = [col for col in df.columns if col not in ['overall', 'reviewText', 'summary']], axis=1)"
   ]
  },
  {
   "cell_type": "code",
   "execution_count": 5,
   "metadata": {},
   "outputs": [],
   "source": [
    "df = df.dropna(axis=0, subset=['reviewText'])\n",
    "df = df.dropna(axis=0, subset=['summary'])\n",
    "df = df.dropna(axis=0, subset=['overall'])"
   ]
  },
  {
   "cell_type": "code",
   "execution_count": 6,
   "metadata": {},
   "outputs": [
    {
     "data": {
      "text/html": [
       "<div>\n",
       "<style scoped>\n",
       "    .dataframe tbody tr th:only-of-type {\n",
       "        vertical-align: middle;\n",
       "    }\n",
       "\n",
       "    .dataframe tbody tr th {\n",
       "        vertical-align: top;\n",
       "    }\n",
       "\n",
       "    .dataframe thead th {\n",
       "        text-align: right;\n",
       "    }\n",
       "</style>\n",
       "<table border=\"1\" class=\"dataframe\">\n",
       "  <thead>\n",
       "    <tr style=\"text-align: right;\">\n",
       "      <th></th>\n",
       "      <th>overall</th>\n",
       "      <th>reviewText</th>\n",
       "      <th>summary</th>\n",
       "    </tr>\n",
       "  </thead>\n",
       "  <tbody>\n",
       "    <tr>\n",
       "      <th>0</th>\n",
       "      <td>3</td>\n",
       "      <td>After I wrote the below review, the manufactur...</td>\n",
       "      <td>Works well if you place phone in horizontally ...</td>\n",
       "    </tr>\n",
       "    <tr>\n",
       "      <th>1</th>\n",
       "      <td>0</td>\n",
       "      <td>It sucks barely picks up anything definitely n...</td>\n",
       "      <td>sucks</td>\n",
       "    </tr>\n",
       "    <tr>\n",
       "      <th>2</th>\n",
       "      <td>0</td>\n",
       "      <td>Well to write a short one, it blew 2 fuses of ...</td>\n",
       "      <td>Defective</td>\n",
       "    </tr>\n",
       "    <tr>\n",
       "      <th>3</th>\n",
       "      <td>2</td>\n",
       "      <td>I have absolutely no memory of buying this but...</td>\n",
       "      <td>Looks cool! Probably works</td>\n",
       "    </tr>\n",
       "    <tr>\n",
       "      <th>4</th>\n",
       "      <td>4</td>\n",
       "      <td>it ok it does it job</td>\n",
       "      <td>Five Stars</td>\n",
       "    </tr>\n",
       "  </tbody>\n",
       "</table>\n",
       "</div>"
      ],
      "text/plain": [
       "   overall                                         reviewText  \\\n",
       "0        3  After I wrote the below review, the manufactur...   \n",
       "1        0  It sucks barely picks up anything definitely n...   \n",
       "2        0  Well to write a short one, it blew 2 fuses of ...   \n",
       "3        2  I have absolutely no memory of buying this but...   \n",
       "4        4                               it ok it does it job   \n",
       "\n",
       "                                             summary  \n",
       "0  Works well if you place phone in horizontally ...  \n",
       "1                                              sucks  \n",
       "2                                          Defective  \n",
       "3                         Looks cool! Probably works  \n",
       "4                                         Five Stars  "
      ]
     },
     "execution_count": 6,
     "metadata": {},
     "output_type": "execute_result"
    }
   ],
   "source": [
    "df['overall'] = df['overall'].astype('int32')\n",
    "df['overall'] = df['overall'].replace(1, 0)\n",
    "df['overall'] = df['overall'].replace(2, 1)\n",
    "df['overall'] = df['overall'].replace(3, 2)\n",
    "df['overall'] = df['overall'].replace(4, 3)\n",
    "df['overall'] = df['overall'].replace(5, 4)\n",
    "df.head()"
   ]
  },
  {
   "cell_type": "code",
   "execution_count": 7,
   "metadata": {},
   "outputs": [
    {
     "name": "stdout",
     "output_type": "stream",
     "text": [
      "4    723610\n",
      "3    145621\n",
      "2     59558\n",
      "0     41928\n",
      "1     28792\n",
      "Name: overall, dtype: int64\n"
     ]
    }
   ],
   "source": [
    "print(df['overall'].value_counts())"
   ]
  },
  {
   "cell_type": "code",
   "execution_count": 8,
   "metadata": {},
   "outputs": [],
   "source": [
    "reviewText = df['reviewText'].to_numpy()\n",
    "summary = df['summary'].to_numpy()\n",
    "overall = df['overall'].to_numpy()"
   ]
  },
  {
   "cell_type": "markdown",
   "metadata": {},
   "source": [
    "# Text preprocessing"
   ]
  },
  {
   "cell_type": "code",
   "execution_count": 43,
   "metadata": {},
   "outputs": [
    {
     "name": "stdout",
     "output_type": "stream",
     "text": [
      "('tok2vec', <spacy.pipeline.tok2vec.Tok2Vec object at 0x00000270FB7EC810>)\n"
     ]
    }
   ],
   "source": [
    "exclude=['tagger', 'ner', 'attribute_ruler', 'lemmatizer', 'parser']\n",
    "nlp = spacy.load('en_core_web_md', disable=exclude)\n",
    "\n",
    "for pipe in nlp.pipeline:\n",
    "    print(pipe[0])"
   ]
  },
  {
   "cell_type": "code",
   "execution_count": 10,
   "metadata": {},
   "outputs": [
    {
     "name": "stdout",
     "output_type": "stream",
     "text": [
      "[ 1.63474321e-01  2.35199228e-01 -1.08499303e-01 -1.63953006e-01\n",
      "  5.81135377e-02 -6.21292330e-02  1.69210017e-01 -1.53274462e-01\n",
      "  6.78331824e-04  2.35654449e+00 -1.84112921e-01  5.80796190e-02\n",
      "  8.83183107e-02  5.68091050e-02 -9.79595855e-02 -3.18630934e-02\n",
      " -5.38004637e-02  6.53856337e-01 -9.67848450e-02  8.93674567e-02\n",
      " -8.31639245e-02 -1.78414524e-01 -1.34311810e-01 -1.31124675e-01\n",
      "  4.75685410e-02  1.86282888e-01 -1.45664871e-01  9.48518608e-03\n",
      " -5.02543077e-02 -2.48364713e-02 -5.46054654e-02  6.77761585e-02\n",
      " -3.82177718e-02 -1.25679187e-02  7.74515001e-03 -5.60023859e-02\n",
      "  1.18696783e-02 -7.92523101e-03 -3.62585373e-02 -3.43072377e-02\n",
      "  4.83157188e-02  1.97839156e-01  1.59617007e-01  2.39417721e-02\n",
      "  3.50391865e-03  5.52188698e-03 -1.35563463e-01  9.72715467e-02\n",
      " -1.57500267e-01  1.07099533e-01 -1.70880467e-01  6.68548048e-02\n",
      "  6.63619190e-02 -9.17673931e-02  8.06933790e-02 -3.64931561e-02\n",
      " -2.82289274e-02 -3.35873105e-02  8.07441548e-02 -4.37116958e-02\n",
      "  3.94755602e-03  1.10878833e-01 -9.95128527e-02  1.13167405e-01\n",
      " -5.91322184e-02 -3.76273245e-02  3.63559239e-02 -4.46292246e-03\n",
      " -2.44913027e-02  2.52610333e-02  2.74050962e-02  4.21014465e-02\n",
      "  1.06091388e-01 -7.78682157e-02 -8.66501480e-02  3.09536923e-02\n",
      "  6.66238368e-02  3.25058438e-02  6.06548414e-02  1.52288452e-01\n",
      "  4.15330715e-02 -1.66709330e-02 -9.33500081e-02  1.00367531e-01\n",
      "  2.13185959e-02 -2.30923384e-01  1.87898800e-01 -1.64647736e-02\n",
      "  1.32161379e-01 -1.52919233e-01 -1.21303312e-01 -1.84129234e-02\n",
      " -2.23746076e-01  5.49985357e-02  1.83769479e-01 -1.35743469e-01\n",
      "  8.69805291e-02 -6.22256920e-02 -2.11650804e-02  4.04676013e-02\n",
      " -6.98099937e-03  5.87661527e-02 -1.69260919e-01 -3.16716172e-02\n",
      "  2.84838453e-02 -6.28429294e-01  1.37274474e-01  1.67247690e-02\n",
      "  1.56808458e-02 -2.13080775e-02  9.53142270e-02 -1.83273792e-01\n",
      " -1.80425167e-01 -5.16560078e-02 -1.10786691e-01  2.99792225e-03\n",
      " -9.94399656e-03 -8.26892331e-02 -9.56380367e-02 -4.62512225e-02\n",
      "  1.36768311e-01 -3.77823063e-03 -1.16015308e-01 -3.47105414e-02\n",
      "  1.82305388e-02  7.48933256e-02 -7.62798265e-02 -7.55035430e-02\n",
      "  8.15976784e-03  9.19999704e-02 -4.67729308e-02  1.29920756e-02\n",
      " -1.05674461e-01 -7.42726177e-02  6.52132332e-02 -8.75763744e-02\n",
      " -7.11062327e-02 -1.66629687e-01  8.17076266e-02 -3.46587040e-02\n",
      " -1.73981011e+00  8.12824890e-02  8.92262310e-02  4.10449281e-02\n",
      " -2.07557678e-02 -2.01246142e-02  9.04579312e-02 -2.07320787e-02\n",
      " -3.01879309e-02 -2.20176149e-02  8.62986967e-02  7.61623085e-02\n",
      "  1.20115175e-03 -1.89666916e-02 -1.39403477e-01 -1.77154154e-01\n",
      " -9.26513001e-02 -3.84519175e-02 -6.35906011e-02 -2.10539326e-01\n",
      "  1.95311792e-02 -1.21485472e-01  7.01572672e-02 -7.57818520e-02\n",
      " -3.87116447e-02 -1.16593704e-01  1.85724590e-02 -6.48153052e-02\n",
      "  2.29606908e-02 -8.97769723e-03 -9.51447785e-02  1.11426050e-02\n",
      "  5.63149862e-02 -1.56631529e-01  8.25625286e-02  5.20123802e-02\n",
      " -2.31099539e-02  9.72409248e-02  5.72198816e-03 -3.43240015e-02\n",
      " -1.43272221e-01 -5.05446270e-02 -3.68187688e-02 -3.30682322e-02\n",
      " -5.74074611e-02 -1.12563692e-01 -8.45136195e-02  1.45776933e-02\n",
      "  1.01768844e-01 -1.13353565e-01 -1.20460978e-02  4.23015561e-03\n",
      " -1.32385984e-01  2.48516891e-02 -6.14185371e-02  7.50999972e-02\n",
      "  3.67021523e-02 -1.34022698e-01  7.89601505e-02  2.64545977e-01\n",
      "  1.58064544e-01 -4.31483015e-02 -4.39768471e-02 -4.41570692e-02\n",
      "  1.97480824e-02 -2.23998502e-02  2.11586766e-02 -1.34989038e-01\n",
      "  7.16887042e-02 -6.20800517e-02 -1.60079077e-01  3.06393038e-02\n",
      "  1.58768624e-01 -2.57732302e-01 -3.83723644e-03  2.66794682e-01\n",
      "  7.00252503e-02  8.73154551e-02 -2.25609004e-01 -1.59662310e-02\n",
      "  9.30681527e-02  4.50944491e-02 -8.00647587e-02 -6.55160025e-02\n",
      " -3.32263820e-02  9.41254571e-02  4.91757728e-02  1.82750016e-01\n",
      "  2.28234142e-01  1.11657538e-01 -2.03354746e-01  1.51714459e-01\n",
      " -6.46639988e-02  1.13171689e-01 -1.39356539e-01 -5.11449240e-02\n",
      "  9.58457738e-02  7.37483874e-02 -1.72554091e-01  2.61629671e-01\n",
      "  1.06809065e-01  6.52168468e-02 -5.67914695e-02  8.60523880e-02\n",
      " -4.66851927e-02 -7.37036243e-02 -1.95600405e-01 -9.32669565e-02\n",
      " -1.69039637e-01  2.39628315e-01  1.88889042e-01 -1.07178159e-01\n",
      " -1.46223400e-02 -5.20507339e-03  5.89842834e-02  7.24720806e-02\n",
      " -2.78734080e-02 -6.29340708e-02 -2.61195470e-02 -1.84290819e-02\n",
      "  2.26727307e-01  2.57747620e-01 -1.03070460e-01  1.44319281e-01\n",
      "  2.29322910e-02  1.37016699e-01 -1.15094915e-01  2.31848489e-02\n",
      "  1.84428141e-01  6.37092814e-02 -7.22009167e-02  5.07993884e-02\n",
      "  1.27986888e-03 -8.12965333e-02 -7.02653080e-02  6.54394701e-02\n",
      "  7.43122846e-02  7.36368820e-02 -2.81188395e-02  1.04358450e-01\n",
      "  6.20952286e-02  1.18370764e-02 -1.61801890e-01 -2.19086315e-02\n",
      " -4.66837883e-02 -3.92399244e-02  1.17067851e-01 -6.95461556e-02\n",
      "  1.11420393e-01 -7.33136907e-02 -5.65149151e-02 -7.43039995e-02\n",
      " -1.47905841e-01 -1.24798208e-01  2.44062319e-01  1.42283291e-01\n",
      " -1.81069244e-02 -2.64700383e-01  1.61240682e-01  2.81812046e-02]\n"
     ]
    }
   ],
   "source": [
    "def get_spacy_doc_vector(text):\n",
    "    text_tokens = [token for token in nlp(text)]\n",
    "    clean_tokens = [token for token in text_tokens if token.text not in punctuation]\n",
    "    not_null_tokens = [token.text for token in clean_tokens if any(token.vector)]\n",
    "    return spacy.tokens.doc.Doc(nlp.vocab, words=not_null_tokens, spaces=None).vector\n",
    "    \n",
    "text = \"Nick likes to play asdtyucvbn football, however he is not too fond of tennis dfsauifyadfsaf6stftsf.\"\n",
    "print(get_spacy_doc_vector(text))"
   ]
  },
  {
   "cell_type": "code",
   "execution_count": 11,
   "metadata": {
    "scrolled": true
   },
   "outputs": [
    {
     "name": "stdout",
     "output_type": "stream",
     "text": [
      "0\n",
      "100000\n",
      "200000\n",
      "300000\n",
      "400000\n",
      "500000\n",
      "600000\n",
      "700000\n",
      "800000\n",
      "900000\n"
     ]
    }
   ],
   "source": [
    "for i in range(len(reviewText)):\n",
    "    reviewText[i] = get_spacy_doc_vector(reviewText[i])\n",
    "    summary[i] = get_spacy_doc_vector(summary[i])\n",
    "    if i % 100000 == 0:\n",
    "        print(i)"
   ]
  },
  {
   "cell_type": "code",
   "execution_count": 12,
   "metadata": {},
   "outputs": [
    {
     "data": {
      "text/html": [
       "<div>\n",
       "<style scoped>\n",
       "    .dataframe tbody tr th:only-of-type {\n",
       "        vertical-align: middle;\n",
       "    }\n",
       "\n",
       "    .dataframe tbody tr th {\n",
       "        vertical-align: top;\n",
       "    }\n",
       "\n",
       "    .dataframe thead th {\n",
       "        text-align: right;\n",
       "    }\n",
       "</style>\n",
       "<table border=\"1\" class=\"dataframe\">\n",
       "  <thead>\n",
       "    <tr style=\"text-align: right;\">\n",
       "      <th></th>\n",
       "      <th>overall</th>\n",
       "      <th>reviewText</th>\n",
       "      <th>summary</th>\n",
       "    </tr>\n",
       "  </thead>\n",
       "  <tbody>\n",
       "    <tr>\n",
       "      <th>0</th>\n",
       "      <td>3</td>\n",
       "      <td>[-0.009931199, 0.16019917, -0.19412772, -0.018...</td>\n",
       "      <td>[-0.009252692, 0.1573127, -0.16074006, -0.0739...</td>\n",
       "    </tr>\n",
       "    <tr>\n",
       "      <th>1</th>\n",
       "      <td>0</td>\n",
       "      <td>[-0.21352093, 0.1927869, -0.27589127, -0.03961...</td>\n",
       "      <td>[-0.94507, 0.13348, -0.3, -0.15363, -0.29071, ...</td>\n",
       "    </tr>\n",
       "    <tr>\n",
       "      <th>2</th>\n",
       "      <td>0</td>\n",
       "      <td>[-0.007160707, 0.1683325, -0.09650622, 0.02659...</td>\n",
       "      <td>[-0.063381, 0.42333, -0.51082, 0.15436, -0.441...</td>\n",
       "    </tr>\n",
       "    <tr>\n",
       "      <th>3</th>\n",
       "      <td>2</td>\n",
       "      <td>[-0.042970385, 0.19092175, -0.20956193, -0.054...</td>\n",
       "      <td>[0.0013926525, 0.13733649, -0.10146071, -0.140...</td>\n",
       "    </tr>\n",
       "    <tr>\n",
       "      <th>4</th>\n",
       "      <td>4</td>\n",
       "      <td>[-0.093076885, 0.28408, -0.23881684, -0.183654...</td>\n",
       "      <td>[0.02243275, -0.05039515, -0.033619545, -0.250...</td>\n",
       "    </tr>\n",
       "  </tbody>\n",
       "</table>\n",
       "</div>"
      ],
      "text/plain": [
       "   overall                                         reviewText  \\\n",
       "0        3  [-0.009931199, 0.16019917, -0.19412772, -0.018...   \n",
       "1        0  [-0.21352093, 0.1927869, -0.27589127, -0.03961...   \n",
       "2        0  [-0.007160707, 0.1683325, -0.09650622, 0.02659...   \n",
       "3        2  [-0.042970385, 0.19092175, -0.20956193, -0.054...   \n",
       "4        4  [-0.093076885, 0.28408, -0.23881684, -0.183654...   \n",
       "\n",
       "                                             summary  \n",
       "0  [-0.009252692, 0.1573127, -0.16074006, -0.0739...  \n",
       "1  [-0.94507, 0.13348, -0.3, -0.15363, -0.29071, ...  \n",
       "2  [-0.063381, 0.42333, -0.51082, 0.15436, -0.441...  \n",
       "3  [0.0013926525, 0.13733649, -0.10146071, -0.140...  \n",
       "4  [0.02243275, -0.05039515, -0.033619545, -0.250...  "
      ]
     },
     "execution_count": 12,
     "metadata": {},
     "output_type": "execute_result"
    }
   ],
   "source": [
    "df.head()"
   ]
  },
  {
   "cell_type": "code",
   "execution_count": 13,
   "metadata": {},
   "outputs": [],
   "source": [
    "df.to_pickle('vectors21full.pkl')"
   ]
  },
  {
   "cell_type": "code",
   "execution_count": 2,
   "metadata": {},
   "outputs": [
    {
     "data": {
      "text/html": [
       "<div>\n",
       "<style scoped>\n",
       "    .dataframe tbody tr th:only-of-type {\n",
       "        vertical-align: middle;\n",
       "    }\n",
       "\n",
       "    .dataframe tbody tr th {\n",
       "        vertical-align: top;\n",
       "    }\n",
       "\n",
       "    .dataframe thead th {\n",
       "        text-align: right;\n",
       "    }\n",
       "</style>\n",
       "<table border=\"1\" class=\"dataframe\">\n",
       "  <thead>\n",
       "    <tr style=\"text-align: right;\">\n",
       "      <th></th>\n",
       "      <th>overall</th>\n",
       "      <th>reviewText</th>\n",
       "      <th>summary</th>\n",
       "    </tr>\n",
       "  </thead>\n",
       "  <tbody>\n",
       "    <tr>\n",
       "      <th>0</th>\n",
       "      <td>3</td>\n",
       "      <td>[-0.009931199, 0.16019917, -0.19412772, -0.018...</td>\n",
       "      <td>[-0.009252692, 0.1573127, -0.16074006, -0.0739...</td>\n",
       "    </tr>\n",
       "    <tr>\n",
       "      <th>1</th>\n",
       "      <td>0</td>\n",
       "      <td>[-0.21352093, 0.1927869, -0.27589127, -0.03961...</td>\n",
       "      <td>[-0.94507, 0.13348, -0.3, -0.15363, -0.29071, ...</td>\n",
       "    </tr>\n",
       "    <tr>\n",
       "      <th>2</th>\n",
       "      <td>0</td>\n",
       "      <td>[-0.007160707, 0.1683325, -0.09650622, 0.02659...</td>\n",
       "      <td>[-0.063381, 0.42333, -0.51082, 0.15436, -0.441...</td>\n",
       "    </tr>\n",
       "    <tr>\n",
       "      <th>3</th>\n",
       "      <td>2</td>\n",
       "      <td>[-0.042970385, 0.19092175, -0.20956193, -0.054...</td>\n",
       "      <td>[0.0013926525, 0.13733649, -0.10146071, -0.140...</td>\n",
       "    </tr>\n",
       "    <tr>\n",
       "      <th>4</th>\n",
       "      <td>4</td>\n",
       "      <td>[-0.093076885, 0.28408, -0.23881684, -0.183654...</td>\n",
       "      <td>[0.02243275, -0.05039515, -0.033619545, -0.250...</td>\n",
       "    </tr>\n",
       "  </tbody>\n",
       "</table>\n",
       "</div>"
      ],
      "text/plain": [
       "   overall                                         reviewText  \\\n",
       "0        3  [-0.009931199, 0.16019917, -0.19412772, -0.018...   \n",
       "1        0  [-0.21352093, 0.1927869, -0.27589127, -0.03961...   \n",
       "2        0  [-0.007160707, 0.1683325, -0.09650622, 0.02659...   \n",
       "3        2  [-0.042970385, 0.19092175, -0.20956193, -0.054...   \n",
       "4        4  [-0.093076885, 0.28408, -0.23881684, -0.183654...   \n",
       "\n",
       "                                             summary  \n",
       "0  [-0.009252692, 0.1573127, -0.16074006, -0.0739...  \n",
       "1  [-0.94507, 0.13348, -0.3, -0.15363, -0.29071, ...  \n",
       "2  [-0.063381, 0.42333, -0.51082, 0.15436, -0.441...  \n",
       "3  [0.0013926525, 0.13733649, -0.10146071, -0.140...  \n",
       "4  [0.02243275, -0.05039515, -0.033619545, -0.250...  "
      ]
     },
     "execution_count": 2,
     "metadata": {},
     "output_type": "execute_result"
    }
   ],
   "source": [
    "df = pd.read_pickle('vectors21full.pkl')\n",
    "df.head()"
   ]
  },
  {
   "cell_type": "code",
   "execution_count": 37,
   "metadata": {},
   "outputs": [],
   "source": [
    "def in_two_best_predict(best_2, y):\n",
    "    correct = 0\n",
    "    for i in range(len(y)):\n",
    "        if y[i] in best_2[i]:\n",
    "            correct += 1\n",
    "    return correct / len(y)"
   ]
  },
  {
   "cell_type": "code",
   "execution_count": 4,
   "metadata": {},
   "outputs": [],
   "source": [
    "reviewText = df['reviewText'].to_numpy()\n",
    "reviewText = np.concatenate(reviewText)\n",
    "summary = df['summary'].to_numpy()\n",
    "summary = np.concatenate(summary)\n",
    "overall = df['overall'].to_numpy()"
   ]
  },
  {
   "cell_type": "code",
   "execution_count": 5,
   "metadata": {},
   "outputs": [
    {
     "data": {
      "text/plain": [
       "(299852700,)"
      ]
     },
     "execution_count": 5,
     "metadata": {},
     "output_type": "execute_result"
    }
   ],
   "source": [
    "reviewText.shape"
   ]
  },
  {
   "cell_type": "code",
   "execution_count": 6,
   "metadata": {},
   "outputs": [],
   "source": [
    "reviewText = reviewText.reshape((999509, 300))\n",
    "summary = summary.reshape((999509, 300))"
   ]
  },
  {
   "cell_type": "code",
   "execution_count": 7,
   "metadata": {},
   "outputs": [
    {
     "data": {
      "text/plain": [
       "(999509,)"
      ]
     },
     "execution_count": 7,
     "metadata": {},
     "output_type": "execute_result"
    }
   ],
   "source": [
    "overall.shape"
   ]
  },
  {
   "cell_type": "code",
   "execution_count": 8,
   "metadata": {},
   "outputs": [],
   "source": [
    "X = np.hstack((reviewText, summary))"
   ]
  },
  {
   "cell_type": "code",
   "execution_count": 9,
   "metadata": {},
   "outputs": [
    {
     "data": {
      "text/plain": [
       "(999509, 600)"
      ]
     },
     "execution_count": 9,
     "metadata": {},
     "output_type": "execute_result"
    }
   ],
   "source": [
    "X.shape"
   ]
  },
  {
   "cell_type": "code",
   "execution_count": 10,
   "metadata": {},
   "outputs": [],
   "source": [
    "Y = df['overall'].to_numpy()"
   ]
  },
  {
   "cell_type": "code",
   "execution_count": 11,
   "metadata": {},
   "outputs": [
    {
     "data": {
      "text/plain": [
       "(999509,)"
      ]
     },
     "execution_count": 11,
     "metadata": {},
     "output_type": "execute_result"
    }
   ],
   "source": [
    "Y.shape"
   ]
  },
  {
   "cell_type": "code",
   "execution_count": 12,
   "metadata": {},
   "outputs": [],
   "source": [
    "X_train, X_test, Y_train, Y_test = train_test_split(X, Y, test_size = 0.25, random_state = 21)"
   ]
  },
  {
   "cell_type": "markdown",
   "metadata": {},
   "source": [
    "# Model selection"
   ]
  },
  {
   "cell_type": "code",
   "execution_count": 14,
   "metadata": {},
   "outputs": [
    {
     "data": {
      "text/plain": [
       "RandomForestClassifier(criterion='entropy', random_state=42)"
      ]
     },
     "execution_count": 14,
     "metadata": {},
     "output_type": "execute_result"
    }
   ],
   "source": [
    "classifier = RandomForestClassifier(n_estimators = 100, criterion = 'entropy', random_state = 42, verbose=True)\n",
    "classifier.fit(X_train, Y_train)"
   ]
  },
  {
   "cell_type": "code",
   "execution_count": 15,
   "metadata": {},
   "outputs": [],
   "source": [
    "pickle.dump(classifier, open('model21.pkl', 'wb'))"
   ]
  },
  {
   "cell_type": "code",
   "execution_count": 16,
   "metadata": {},
   "outputs": [
    {
     "data": {
      "text/plain": [
       "0.8313296888881774"
      ]
     },
     "execution_count": 16,
     "metadata": {},
     "output_type": "execute_result"
    }
   ],
   "source": [
    "classifier.score(X_test, Y_test)"
   ]
  },
  {
   "cell_type": "code",
   "execution_count": 41,
   "metadata": {},
   "outputs": [],
   "source": [
    "predicted = classifier.predict_proba(X_test)\n",
    "best_2 = np.argsort(predicted, axis=1)[:, -2:]"
   ]
  },
  {
   "cell_type": "code",
   "execution_count": 42,
   "metadata": {},
   "outputs": [
    {
     "name": "stdout",
     "output_type": "stream",
     "text": [
      "0.9278647980214345\n"
     ]
    }
   ],
   "source": [
    "print(in_two_best_predict(best_2, Y_test))"
   ]
  },
  {
   "cell_type": "code",
   "execution_count": 54,
   "metadata": {},
   "outputs": [],
   "source": [
    "classifier2 = LogisticRegression(random_state=42, C=10, max_iter=1000, verbose=True)"
   ]
  },
  {
   "cell_type": "code",
   "execution_count": 55,
   "metadata": {},
   "outputs": [
    {
     "name": "stderr",
     "output_type": "stream",
     "text": [
      "[Parallel(n_jobs=1)]: Using backend SequentialBackend with 1 concurrent workers.\n",
      "D:\\Anaconda\\lib\\site-packages\\sklearn\\linear_model\\_logistic.py:762: ConvergenceWarning: lbfgs failed to converge (status=1):\n",
      "STOP: TOTAL NO. of ITERATIONS REACHED LIMIT.\n",
      "\n",
      "Increase the number of iterations (max_iter) or scale the data as shown in:\n",
      "    https://scikit-learn.org/stable/modules/preprocessing.html\n",
      "Please also refer to the documentation for alternative solver options:\n",
      "    https://scikit-learn.org/stable/modules/linear_model.html#logistic-regression\n",
      "  n_iter_i = _check_optimize_result(\n",
      "[Parallel(n_jobs=1)]: Done   1 out of   1 | elapsed: 12.9min finished\n"
     ]
    },
    {
     "data": {
      "text/plain": [
       "LogisticRegression(C=10, max_iter=1000, random_state=42, verbose=True)"
      ]
     },
     "execution_count": 55,
     "metadata": {},
     "output_type": "execute_result"
    }
   ],
   "source": [
    "classifier2.fit(X_train, Y_train)"
   ]
  },
  {
   "cell_type": "code",
   "execution_count": 56,
   "metadata": {},
   "outputs": [
    {
     "data": {
      "text/plain": [
       "0.8094270003761835"
      ]
     },
     "execution_count": 56,
     "metadata": {},
     "output_type": "execute_result"
    }
   ],
   "source": [
    "classifier2.score(X_test, Y_test)"
   ]
  },
  {
   "cell_type": "code",
   "execution_count": 60,
   "metadata": {},
   "outputs": [],
   "source": [
    "predicted = classifier2.predict_proba(X_test)\n",
    "best_2 = np.argsort(predicted, axis=1)[:, -2:]"
   ]
  },
  {
   "cell_type": "code",
   "execution_count": 61,
   "metadata": {},
   "outputs": [
    {
     "name": "stdout",
     "output_type": "stream",
     "text": [
      "0.9237828060093326\n"
     ]
    }
   ],
   "source": [
    "print(in_two_best_predict(best_2, Y_test))"
   ]
  },
  {
   "cell_type": "markdown",
   "metadata": {},
   "source": [
    "# Results"
   ]
  },
  {
   "cell_type": "code",
   "execution_count": 73,
   "metadata": {},
   "outputs": [
    {
     "data": {
      "text/plain": [
       "4    181051\n",
       "3     36283\n",
       "2     14888\n",
       "0     10421\n",
       "1      7235\n",
       "dtype: int64"
      ]
     },
     "execution_count": 73,
     "metadata": {},
     "output_type": "execute_result"
    }
   ],
   "source": [
    "pd.Series(Y_test).value_counts()"
   ]
  },
  {
   "cell_type": "code",
   "execution_count": 74,
   "metadata": {},
   "outputs": [],
   "source": [
    "predict = classifier.predict(X_test)"
   ]
  },
  {
   "cell_type": "code",
   "execution_count": 75,
   "metadata": {},
   "outputs": [
    {
     "name": "stdout",
     "output_type": "stream",
     "text": [
      "[[  4567    459    146     25     40]\n",
      " [   117   2227     84      7      6]\n",
      " [   111    217   5770    299     59]\n",
      " [    60     75    460  14637    416]\n",
      " [  5566   4257   8428  21315 180530]]\n"
     ]
    }
   ],
   "source": [
    "matrix = confusion_matrix(predict, Y_test)\n",
    "print(matrix)"
   ]
  },
  {
   "cell_type": "code",
   "execution_count": 76,
   "metadata": {},
   "outputs": [
    {
     "data": {
      "text/plain": [
       "array([0.87206416, 0.91233101, 0.89374226, 0.9353911 , 0.82023299])"
      ]
     },
     "execution_count": 76,
     "metadata": {},
     "output_type": "execute_result"
    }
   ],
   "source": [
    "# accuracy for each class\n",
    "matrix.diagonal()/matrix.sum(axis=1)"
   ]
  },
  {
   "cell_type": "code",
   "execution_count": 80,
   "metadata": {},
   "outputs": [
    {
     "data": {
      "text/plain": [
       "0.9289048416785783"
      ]
     },
     "execution_count": 80,
     "metadata": {},
     "output_type": "execute_result"
    }
   ],
   "source": [
    "roc_auc_score(Y_test, classifier.predict_proba(X_test), multi_class='ovr')"
   ]
  },
  {
   "cell_type": "code",
   "execution_count": 85,
   "metadata": {},
   "outputs": [
    {
     "data": {
      "image/png": "[encoded data removed]",
      "text/plain": [
       "<Figure size 432x288 with 2 Axes>"
      ]
     },
     "metadata": {
      "needs_background": "light"
     },
     "output_type": "display_data"
    },
    {
     "data": {
      "image/png": "[encoded data removed]",
      "text/plain": [
       "<Figure size 432x288 with 2 Axes>"
      ]
     },
     "metadata": {
      "needs_background": "light"
     },
     "output_type": "display_data"
    }
   ],
   "source": [
    "np.set_printoptions(precision=2)\n",
    "\n",
    "titles_options = [(\"Confusion matrix, without normalization\", None),\n",
    "                  (\"Normalized confusion matrix\", 'true')]\n",
    "for title, normalize in titles_options:\n",
    "    disp = plot_confusion_matrix(classifier, X_test, Y_test,\n",
    "                                 display_labels=['1', '2', '3', '4', '5'],\n",
    "                                 cmap=plt.cm.Blues,\n",
    "                                 normalize=normalize)\n",
    "    disp.ax_.set_title(title)\n",
    "\n",
    "plt.show()"
   ]
  },
  {
   "cell_type": "code",
   "execution_count": null,
   "metadata": {},
   "outputs": [],
   "source": []
  }
 ],
 "metadata": {
  "kernelspec": {
   "display_name": "Python 3",
   "language": "python",
   "name": "python3"
  },
  "language_info": {
   "codemirror_mode": {
    "name": "ipython",
    "version": 3
   },
   "file_extension": ".py",
   "mimetype": "text/x-python",
   "name": "python",
   "nbconvert_exporter": "python",
   "pygments_lexer": "ipython3",
   "version": "3.8.5"
  }
 },
 "nbformat": 4,
 "nbformat_minor": 4
}
